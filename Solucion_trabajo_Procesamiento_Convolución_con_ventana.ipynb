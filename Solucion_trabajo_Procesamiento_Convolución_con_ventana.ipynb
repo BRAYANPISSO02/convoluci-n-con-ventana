{
  "nbformat": 4,
  "nbformat_minor": 0,
  "metadata": {
    "colab": {
      "provenance": []
    },
    "kernelspec": {
      "name": "python3",
      "display_name": "Python 3"
    },
    "language_info": {
      "name": "python"
    }
  },
  "cells": [
    {
      "cell_type": "code",
      "execution_count": null,
      "metadata": {
        "id": "E5kGmK0pJi4w"
      },
      "outputs": [],
      "source": [
        "import numpy as np\n",
        "import matplotlib.pyplot as plt\n",
        "from scipy.signal import chirp\n",
        "\n",
        "# --- PARÁMETROS GENERALES ---\n",
        "\n",
        "frecuencia_muestreo = 1000  # Frecuencia de muestreo en Hz\n",
        "frecuencia_base = 50  # Frecuencia de la señal base en Hz (por ejemplo, 50 Hz)\n",
        "duracion_segundos = 10 * (1 / frecuencia_base)  # Duración de 10 periodos de la señal base\n",
        "\n",
        "# Creamos el vector de tiempo con valores desde 0 hasta la duración de 10 periodos\n",
        "tiempo = np.linspace(0, duracion_segundos, int(frecuencia_muestreo * duracion_segundos), endpoint=False)\n",
        "\n",
        "# --- SEÑAL CHIRP (CON RUIDO) ---\n",
        "\n",
        "# Señal chirp con frecuencia que varía linealmente de 10 Hz a 200 Hz en 10 segundos\n",
        "frecuencia_inicio = 10  # Hz\n",
        "frecuencia_final = 200  # Hz\n",
        "senal_chirp = chirp(tiempo, f0=frecuencia_inicio, f1=frecuencia_final, t1=duracion_segundos, method='linear')\n",
        "\n",
        "# Agregar ruido blanco a la señal chirp\n",
        "ruido = np.random.normal(0, 0.1, len(tiempo))  # Ruido blanco\n",
        "senal_con_ruido = senal_chirp + ruido\n",
        "\n",
        "# --- SEÑALES DE CONVOLUCIÓN (MISMA FASE) ---\n",
        "\n",
        "# Generamos varias señales con la misma frecuencia base y fase, asegurando que tienen la misma longitud y 10 periodos\n",
        "frecs_adicionales = [50, 100, 150]  # Frecuencias adicionales para las señales\n",
        "\n",
        "# Preparamos una figura para graficar\n",
        "plt.figure(figsize=(12, 12))\n",
        "\n",
        "# Iteramos sobre las frecuencias adicionales para generar señales con la misma fase\n",
        "for indice, frecuencia_actual in enumerate(frecs_adicionales):\n",
        "    # Generamos señales senoidales con la misma fase\n",
        "    senal_actual = np.sin(2 * np.pi * frecuencia_actual * tiempo)  # Misma fase, diferentes frecuencias\n",
        "\n",
        "    # Realizamos la convolución de la señal chirp con ruido y la señal actual\n",
        "    resultado_convolucion = np.convolve(senal_con_ruido, senal_actual, mode='same')\n",
        "\n",
        "    # Calculamos la posición para las subgráficas\n",
        "    posicion = indice * 3 + 1\n",
        "\n",
        "    # --- GRAFICAR SEÑAL BASE ---\n",
        "    plt.subplot(len(frecs_adicionales) * 3, 1, posicion)\n",
        "    plt.plot(tiempo, senal_con_ruido)\n",
        "    plt.title(f'[F = {frecuencia_base} Hz] Señal Chirp con Ruido')\n",
        "    plt.ylabel('Amplitud')\n",
        "    plt.grid(True)\n",
        "\n",
        "    # --- GRAFICAR SEÑAL ACTUAL ---\n",
        "    plt.subplot(len(frecs_adicionales) * 3, 1, posicion + 1)\n",
        "    plt.plot(tiempo, senal_actual)\n",
        "    plt.title(f'[F = {frecuencia_actual} Hz] Señal {frecuencia_actual} Hz')\n",
        "    plt.ylabel('Amplitud')\n",
        "    plt.grid(True)\n",
        "\n",
        "    # --- GRAFICAR RESULTADO DE LA CONVOLUCIÓN ---\n",
        "    plt.subplot(len(frecs_adicionales) * 3, 1, posicion + 2)\n",
        "    plt.plot(tiempo, resultado_convolucion)\n",
        "    plt.title(f'[F = {frecuencia_actual} Hz] Convolución con Señal de {frecuencia_actual} Hz')\n",
        "    plt.xlabel('Tiempo [s]')\n",
        "    plt.ylabel('Amplitud')\n",
        "    plt.grid(True)\n",
        "\n",
        "# Ajustamos los espacios entre subgráficas para que no se sobrepongan\n",
        "plt.tight_layout()\n",
        "\n",
        "# Mostramos todas las gráficas\n",
        "plt.show()\n"
      ]
    }
  ]
}